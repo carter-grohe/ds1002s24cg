{
  "nbformat": 4,
  "nbformat_minor": 0,
  "metadata": {
    "colab": {
      "provenance": [],
      "include_colab_link": true
    },
    "kernelspec": {
      "name": "python3",
      "display_name": "Python 3"
    },
    "language_info": {
      "name": "python"
    }
  },
  "cells": [
    {
      "cell_type": "markdown",
      "metadata": {
        "id": "view-in-github",
        "colab_type": "text"
      },
      "source": [
        "<a href=\"https://colab.research.google.com/github/carter-grohe/ds1002s24cg/blob/main/28FebAssignment.ipynb\" target=\"_parent\"><img src=\"https://colab.research.google.com/assets/colab-badge.svg\" alt=\"Open In Colab\"/></a>"
      ]
    },
    {
      "cell_type": "markdown",
      "source": [
        "\n",
        "05_WordsHW.ipynb_\n",
        "Words (an assignment due Weds 28 Feb by noon)\n",
        "\n",
        "There are many word lists available on the internet, of varying size and quality. You have one on your own computer, actually, which is used by any software that has a spell-check feature. As you type, the software (Outlook, or Microsoft Word, or whatever) is constantly looking up words to see if they are on the word list, and if not it will alert you that it thinks the word is misspelled.\n",
        "\n",
        "(On a Mac, one such file is located at /usr/share/dict/web2. I'm not sure where to find it on a PC.)\n",
        "\n",
        "For this assignment we will use a word list called web2 that you can access via a python package called english_words.\n",
        "General instructions\n",
        "\n",
        "    You may work in teams of up to three people. If you do so, only one of your team should submit your link on Canvas, and you should include all names both in the document and in a comment on Canvas.\n",
        "    Some of these problems are tricky. You should try to figure out how to solve them, rather than looking up answers. If you need to know how to do a very specific thing, or if you are looking for the syntax for a particular function, that is an acceptable use of google. You should under no circumstance search for existing code, or ask a chatbot to produce code, to solve the problems.\n",
        "    Some of the problems are trickier than others. I think you can solve them all using tools we have seen in previous notebooks, although there are often more efficient ways to solve them. (This was true for the image filtering problem we discussed last week, as you may recall.)\n",
        "    As usual, submit a clean, annotated notebook with appropriately commented code. Make it easy to grade!\n",
        "\n",
        "Assignment\n",
        "\n",
        "    Open a new colab notebook, and put this code into a code chunk at the top:\n",
        "\n",
        "    !pip install english_words\n",
        "    from english_words import get_english_words_set\n",
        "    words = get_english_words_set(['web2'], lower=True)\n",
        "\n",
        "    The variable words is not yet a list. What is its data type? Convert it to a list called wordlist. How long is wordlist?\n",
        "\n",
        "    Print out the first ten words in wordlist. What do you notice?\n",
        "\n",
        "    Make a list called alpha_list containing all the same words as the wordlist, but in alphabetical order. (Use the sorted() function.) Print out the first ten words in alpha_list.\n",
        "\n",
        "    How many words start with a? I mean words on your list (either sorted or unsorted); whenever I say \"words\" from now on I will be referring to these lists.\n",
        "\n",
        "    How many words have a q in them? What fraction of words do not have an e?\n",
        "\n",
        "    Import numpy and convert your lists to numpy arrays. Also execute the following code:\n",
        "    alphabet = [chr(i) for i in range(ord('a'),ord('z')+1)]\n",
        "    What does this do?\n",
        "\n",
        "    Make a bar graph of the number of words starting with each letter. You will have to import at least one more package to do this. Label the axes and give the whole plot a title.\n",
        "\n",
        "    What are the six longest words in the word list?\n",
        "\n",
        "    Make a histogram of the number of words of each length. Again, give the plot a title and label the axes. What is the most common length of a word in the wordlist?\n",
        "\n",
        "    Finally, before you submit your notebook, go back and clean it up, remove unnecessary code, add text explanations and comments where appropriate, and so on. Make it as easy as possible for us to read.\n",
        "\n",
        "This formerly bonus problem has been promoted to a regular problem.\n",
        "\n",
        "How many words contain both letters v and a? What about both w and l? The letters don't have to be next to each other or in the order I gave them, just anywhere in the word. How many times do you have to loop through the word list to answer this question? How long does it take to run? This should appear in a tiny font under the green checkmark next to the \"run\" button after the code finishes (without errors, of course).\n",
        "\n",
        "BONUS:\n",
        "This problem was a bonus before and still is.\n",
        "\n",
        "    What is the pair of letters that appear in the most words? How many words contain both those letters?\n",
        "    In other words, in the previous problem, you counted the words for two separate pairs, v,a and w,l. I'm now asking, out of all possible pairs, which pair would give the largest answer, and what that number is. Answer the same questions for the fewest words: what pair of letters is contained in the fewest words, and how many words are those two letters contained in?\n",
        "\n",
        "Note: Before you attempt this, plan your strategy! What exactly is the infomation you want to collect? How should you structure that information? How can you set up code to implement that structure? When you have something you are ready to try, test your code on a smaller set than the whole word list! The reason for this is that the word list is long, and each time you run the code on the whole list it might take several minutes to execute.\n",
        "\n",
        "    Make a heat map encapsulating the frequencies of pairs of letters occurring together in a word. In other words you will have two axes, each labeled with the letters of the alphabet, and corresponding to a pair (one from each axis) there will be a colored square, with color determined by how many words on the word list contain both letters.\n",
        "\n",
        "Note: pay attention to what happens along the diagonal. What does it mean? Adjust your graphic to account for this, if appropriate.\n",
        "\n",
        "Tip: there is a way to go back and forth between letters and numbers. The ord() function takes characters to integers, and the chr() function takes integers back to characters. Specifically, the (lower case) alphabetic characters are encoded with integers starting at 97. So if you type ord('a') the output will be 97. If you type chr(98) the output will be 'b'. The way I solved the bonus problem, this tip was useful. (See also problem 6.)\n",
        "Colab paid products - Cancel contracts here\n",
        "\n"
      ],
      "metadata": {
        "id": "-nyptjTP99WZ"
      }
    },
    {
      "cell_type": "markdown",
      "source": [
        "### General instructions\n",
        "\n",
        "- You may work in teams of up to three people.  If you do so, only one of your team should submit your link on Canvas, and you should include all names **both in the document and in a comment on Canvas**.\n",
        "- Some of these problems are tricky.  You should try to figure out how to solve them, rather than looking up answers.  If you need to know how to do a very specific thing, or if you are looking for the syntax for a particular function, that is an acceptable use of google.  You should under no circumstance search for existing code, or ask a chatbot to produce code, to solve the problems.\n",
        "- Some of the problems are trickier than others.  I think you can solve them all using tools we have seen in previous notebooks, although there are often more efficient ways to solve them.  (This was true for the image filtering problem we discussed last week, as you may recall.)\n",
        "- As usual, submit a clean, annotated notebook with appropriately commented code.  Make it easy to grade!"
      ],
      "metadata": {
        "id": "6ehoA20X84Hk"
      }
    },
    {
      "cell_type": "markdown",
      "source": [
        "\n",
        "### Assignment\n",
        "\n",
        "0.  Open a new colab notebook, and put this code into a code chunk at the top:\n",
        "```\n",
        "!pip install english_words\n",
        "from english_words import get_english_words_set\n",
        "words = get_english_words_set(['web2'], lower=True)\n",
        "```"
      ],
      "metadata": {
        "id": "eJU4Y9YpUmXB"
      }
    },
    {
      "cell_type": "markdown",
      "source": [
        "1.  The variable `words` is not yet a `list`.  What is its data type?  Convert it to a `list` called `wordlist`.  How long is `wordlist`?\n",
        "\n",
        "1.  Print out the first ten words in `wordlist`.  What do you notice?\n",
        "\n",
        "1.  Make a list called `alpha_list` containing all the same words, but in alphabetical order.  (Use the `sorted()` function.) Print out the first ten words in `alpha_list`.\n",
        "\n",
        "1.  How many words start with `a`?  I mean words on your list (either sorted or unsorted); whenever I say \"words\" from now on I will be referring to these lists.\n",
        "\n",
        "1.  How many words have a `q` in them?  What fraction of words do *not* have an `e`?\n",
        "\n",
        "1.  Import `numpy` and convert your lists to `numpy` arrays.  Also execute the following code:  \n",
        "```alphabet = [chr(i) for i in range(ord('a'),ord('z')+1)]```  \n",
        "What does this do?\n",
        "\n",
        "1.  Make a bar graph of the number of words starting with each letter.  You will have to import at least one more package to do this.  Label the axes and give the whole plot a title.\n",
        "\n",
        "1.  What are the six longest words in the word list?\n",
        "\n",
        "1.  Make a histogram of the number of words of each length.  Again, give the plot a title and label the axes.  What is the most common length of a word in the wordlist?\n",
        "\n",
        "1.  Finally, before you submit your notebook, go back and clean it up, remove unnecessary code, add text explanations and comments where appropriate, and so on.  Make it as easy as possible for us to read.\n"
      ],
      "metadata": {
        "id": "c4_sYArzWWfQ"
      }
    },
    {
      "cell_type": "code",
      "source": [
        "!pip install english_words\n",
        "from english_words import get_english_words_set\n",
        "words = get_english_words_set(['web2'], lower=True)"
      ],
      "metadata": {
        "id": "lHY5nWCZO-8Z",
        "outputId": "7b705ed8-0fc1-4a32-ac44-54b05b4c54df",
        "colab": {
          "base_uri": "https://localhost:8080/"
        }
      },
      "execution_count": 3,
      "outputs": [
        {
          "output_type": "stream",
          "name": "stdout",
          "text": [
            "Collecting english_words\n",
            "  Downloading english-words-2.0.1.tar.gz (8.2 MB)\n",
            "\u001b[2K     \u001b[90m━━━━━━━━━━━━━━━━━━━━━━━━━━━━━━━━━━━━━━━━\u001b[0m \u001b[32m8.2/8.2 MB\u001b[0m \u001b[31m17.7 MB/s\u001b[0m eta \u001b[36m0:00:00\u001b[0m\n",
            "\u001b[?25h  Installing build dependencies ... \u001b[?25l\u001b[?25hdone\n",
            "  Getting requirements to build wheel ... \u001b[?25l\u001b[?25hdone\n",
            "  Preparing metadata (pyproject.toml) ... \u001b[?25l\u001b[?25hdone\n",
            "Building wheels for collected packages: english_words\n",
            "  Building wheel for english_words (pyproject.toml) ... \u001b[?25l\u001b[?25hdone\n",
            "  Created wheel for english_words: filename=english_words-2.0.1-py3-none-any.whl size=8196238 sha256=d17a003ecb03a328d057006046f26ca032d1ef7ec3a52ac8e4154227c9c08451\n",
            "  Stored in directory: /root/.cache/pip/wheels/f0/e6/d9/16a123647999fe535f03a36e7af23eef203736d84c7ca25b0b\n",
            "Successfully built english_words\n",
            "Installing collected packages: english_words\n",
            "Successfully installed english_words-2.0.1\n"
          ]
        }
      ]
    },
    {
      "cell_type": "code",
      "source": [
        "# 1. and 2.\n",
        "word_list = list(words)\n",
        "print(\"The word  list is \" + str(len(word_list)) + \" words long.\")\n",
        "print(\"The first ten words are \" + str(word_list[0:10]))"
      ],
      "metadata": {
        "id": "3u56Q4vgPE77",
        "outputId": "25ba0cd9-e58d-47a9-d9d0-f71f22a7984c",
        "colab": {
          "base_uri": "https://localhost:8080/"
        }
      },
      "execution_count": 4,
      "outputs": [
        {
          "output_type": "stream",
          "name": "stdout",
          "text": [
            "The word  list is 234450 words long.\n",
            "The first ten words are ['scrapper', 'mammillaplasty', 'lacroixite', 'foraminiferous', 'head', 'anisomelia', 'pleurectomy', 'cample', 'unshy', 'serology']\n"
          ]
        }
      ]
    },
    {
      "cell_type": "code",
      "source": [
        "# 3.\n",
        "alpha_list = sorted(word_list)\n",
        "print(\"The first ten alphabetically sorted words are \" + str(alpha_list[0:10]))"
      ],
      "metadata": {
        "id": "Ftp5iQ_TPsM5",
        "outputId": "3054c6f1-aa6d-41ea-a23c-73646053cef3",
        "colab": {
          "base_uri": "https://localhost:8080/"
        }
      },
      "execution_count": 5,
      "outputs": [
        {
          "output_type": "stream",
          "name": "stdout",
          "text": [
            "The first ten alphabetically sorted words are ['a', 'aa', 'aal', 'aalii', 'aam', 'aani', 'aardvark', 'aardwolf', 'aaron', 'aaronic']\n"
          ]
        }
      ]
    },
    {
      "cell_type": "code",
      "source": [
        "# 4.\n",
        "a_words = list()\n",
        "for word in alpha_list:\n",
        "  if word[0] == 'a':\n",
        "    a_words.append(word)\n",
        "print(\"There are this many words that start with A: \" + str(len(a_words)))"
      ],
      "metadata": {
        "id": "FBqX6CetKmoa",
        "outputId": "fca86af7-9485-43c7-a56a-6cdabf25b1eb",
        "colab": {
          "base_uri": "https://localhost:8080/"
        }
      },
      "execution_count": null,
      "outputs": [
        {
          "output_type": "stream",
          "name": "stdout",
          "text": [
            "There are this many words that start with A: 16982\n"
          ]
        }
      ]
    },
    {
      "cell_type": "code",
      "source": [
        "# 5.\n",
        "q_words = list()\n",
        "for word in alpha_list:\n",
        "  if \"q\" in word:\n",
        "    q_words.append(word)\n",
        "print(\"There are this many words that contain a Q: \" + str(len(q_words)))\n",
        "\n",
        "e_words = list()\n",
        "for word in alpha_list:\n",
        "  if \"e\" in word:\n",
        "    e_words.append(word)\n",
        "total_5 = len(alpha_list) - len(e_words)\n",
        "solver_5 = total_5 / len(alpha_list) * 100\n",
        "print(\"This amount of words does not contain an E \" + str(solver_5) + \"/100\")"
      ],
      "metadata": {
        "colab": {
          "base_uri": "https://localhost:8080/"
        },
        "id": "vk71Pmf1FY0C",
        "outputId": "083a9936-e18d-47fb-c210-32fd2022b61a"
      },
      "execution_count": null,
      "outputs": [
        {
          "output_type": "stream",
          "name": "stdout",
          "text": [
            "There are this many words that contain a Q: 3624\n",
            "This amount of words does not contain an E 32.828321603753466/100\n"
          ]
        }
      ]
    },
    {
      "cell_type": "code",
      "source": [
        "# 6. and 7.\n",
        "\n",
        "import numpy as np\n",
        "import matplotlib.pyplot as plt\n",
        "\n",
        "alpha_list = np.array(alpha_list)\n",
        "alphabet = [chr(i) for i in range(ord('a'),ord('z')+1)]\n",
        "# This will create an array with all 26 letters of the alphabet\n",
        "\n",
        "x_axises = alphabet\n",
        "\n",
        "zero_list = np.zeros(26, dtype = int)\n",
        "zero_list\n",
        "\n",
        "for word in alpha_list:\n",
        "  counter = ord(word[0]) - 97\n",
        "  zero_list[counter] = zero_list[counter] + 1\n",
        "\n",
        "print(zero_list)\n",
        "plt.bar(x_axises, zero_list)\n",
        "\n",
        "# Yes I know it's a bar graph, not a histogram. Couldn't get the histo to work somehow\n",
        "\n",
        "plt.title(\"Word List sorted by Starting Letter\")\n",
        "plt.xlabel(\"Starting Letter\")\n",
        "plt.ylabel(\"Frequency\")\n",
        "\n",
        "# Most common starting letter is S."
      ],
      "metadata": {
        "id": "SNtyLcL_N8_4",
        "outputId": "9f2795b5-cc4c-43c0-d91d-da121d94d139",
        "colab": {
          "base_uri": "https://localhost:8080/",
          "height": 541
        }
      },
      "execution_count": 22,
      "outputs": [
        {
          "output_type": "stream",
          "name": "stdout",
          "text": [
            "[16982 10970 19789 10853  8705  6841  6772  8997  8787  1604  2242  6234\n",
            " 12516  6747  7831 24342  1148  9618 24937 12855 16364  3418  3913   380\n",
            "   663   942]\n"
          ]
        },
        {
          "output_type": "execute_result",
          "data": {
            "text/plain": [
              "Text(0, 0.5, 'Frequency')"
            ]
          },
          "metadata": {},
          "execution_count": 22
        },
        {
          "output_type": "display_data",
          "data": {
            "text/plain": [
              "<Figure size 640x480 with 1 Axes>"
            ],
            "image/png": "[encoded data removed]"
          },
          "metadata": {}
        }
      ]
    },
    {
      "cell_type": "code",
      "source": [
        "# 8.\n",
        "length_list = sorted(word_list, key=len, reverse =True)\n",
        "print(str(length_list[0:6]))\n",
        "print(str(len(length_list[0:1])))"
      ],
      "metadata": {
        "colab": {
          "base_uri": "https://localhost:8080/"
        },
        "id": "KxuGLqeeOZOi",
        "outputId": "f65ebc93-15f5-4fda-f25c-05342311a296"
      },
      "execution_count": null,
      "outputs": [
        {
          "output_type": "stream",
          "name": "stdout",
          "text": [
            "['antidisestablishmentarianism', 'scientificophilosophical', 'thyroparathyroidectomize', 'formaldehydesulphoxylate', 'tetraiodophenolphthalein', 'pathologicopsychological']\n",
            "1\n"
          ]
        }
      ]
    },
    {
      "cell_type": "code",
      "source": [
        "# 9.\n",
        "\n",
        "x_axis = [m for m in range(1,29)]\n",
        "\n",
        "hist_list = np.zeros(28)\n",
        "\n",
        "for word in alpha_list:\n",
        "  counter = len(word)\n",
        "  hist_list[counter - 1] = hist_list[counter - 1] + 1\n",
        "\n",
        "plt.bar(x_axis, hist_list)\n",
        "plt.title(\"Word List sorted by word length\")\n",
        "plt.xlabel(\"word length\")\n",
        "plt.ylabel(\"Frequency\")\n",
        "\n",
        "# Most common word length is 9"
      ],
      "metadata": {
        "colab": {
          "base_uri": "https://localhost:8080/",
          "height": 447
        },
        "id": "afxl2HHcTZk4",
        "outputId": "f7346ea2-74df-4be5-e569-0c019c0e5455"
      },
      "execution_count": null,
      "outputs": [
        {
          "output_type": "execute_result",
          "data": {
            "text/plain": [
              "<BarContainer object of 28 artists>"
            ]
          },
          "metadata": {},
          "execution_count": 42
        },
        {
          "output_type": "display_data",
          "data": {
            "text/plain": [
              "<Figure size 640x480 with 1 Axes>"
            ],
            "image/png": "[encoded data removed]"
          },
          "metadata": {}
        }
      ]
    },
    {
      "cell_type": "code",
      "source": [
        "# BONUS / # 11\n",
        "\n",
        "bonus_words = list()\n",
        "for word in alpha_list:\n",
        "  if \"v\" in word and \"a\" in word:\n",
        "    bonus_words.append(word)\n",
        "\n",
        "print(\"There are \" + str(len(bonus_words)) + \" words with v and a in the word list\")\n",
        "\n",
        "bonus_words2 = list()\n",
        "for word in alpha_list:\n",
        "  if \"w\" in word and \"l\" in word:\n",
        "    bonus_words2.append(word)\n",
        "\n",
        "print(\"There are \" + str(len(bonus_words2)) + \" words with w and l in the word list\")\n",
        "\n",
        "# It took 0 seconds to run this code. It only takes 1 loop through the word list."
      ],
      "metadata": {
        "colab": {
          "base_uri": "https://localhost:8080/"
        },
        "id": "K1IdIidkUGpJ",
        "outputId": "4c42edf7-0607-4795-ca50-5b0db96e4b45"
      },
      "execution_count": null,
      "outputs": [
        {
          "output_type": "stream",
          "name": "stdout",
          "text": [
            "There are 11347 words with v and a in the word list\n",
            "There are 4822 words with w and l in the word list\n"
          ]
        }
      ]
    },
    {
      "cell_type": "code",
      "source": [
        "# BONUS BONUS / # 1.\n",
        "\n",
        "pairings = {}\n",
        "\n",
        "for word in alpha_list:\n",
        "        for let in range(len(word) - 1):\n",
        "          pair = word[let:let+2]\n",
        "          if pair in pairings:\n",
        "            pairings[pair] += 1\n",
        "          else:\n",
        "            pairings[pair] = 1\n",
        "\n",
        "as_list = list(pairings.items())[:]\n",
        "\n",
        "sortpair = sorted(pairings.items(), key=lambda item: item[1], reverse=True) # I did not come up with some of this - the conversion to tuple or the key=lambda -> had to look up documentation/google\n",
        "sortedpair = sorted(pairings.items(), key=lambda item: item[1])\n",
        "print(str(sortpair[0:1]))\n",
        "print(str(sortedpair[0:1]))\n",
        "\n",
        "## Not quite done - couldn't figure out how to sort the list/dictionary but it is created with the correct pairings.\n"
      ],
      "metadata": {
        "id": "Es1Cx6xGVWYm",
        "outputId": "2a367ac6-1034-4ddb-d739-3058da2edf15",
        "colab": {
          "base_uri": "https://localhost:8080/"
        }
      },
      "execution_count": 18,
      "outputs": [
        {
          "output_type": "stream",
          "name": "stdout",
          "text": [
            "[('er', 42349)]\n",
            "[('fv', 1)]\n"
          ]
        }
      ]
    },
    {
      "cell_type": "markdown",
      "source": [
        "\n",
        "### BONUS:\n",
        "\n",
        "- (warmup) How many words contain both letters `v` and `a`?  What about both `w` and `l`?  The letters don't have to be next to each other or in the order I gave them, just anywhere in the word.  Also, how long does it take the computer to run the code you wrote to answer this question?  This should appear in a tiny font under the green checkmark next to the \"run\" button after the code finishes (without errors, of course).\n",
        "\n",
        "- (the real bonus)\n",
        "What is the pair of letters that appear in the most words?  How many words contain both those letters?  \n",
        "In other words, in the previous problem, you counted the words for two separate pairs, `v,a` and `w,l`.  I'm now asking, out of all possible pairs, which pair would give the largest answer, and what that number is.\n",
        "Answer the same questions for the *fewest* words:  what pair of letters is contained in the fewest words, and how many words are those two letters contained in?\n",
        "\n",
        "\n",
        "\n",
        "Note:  **Before you attempt this, plan your strategy!**  What exactly is the infomation you want to collect?  How should you structure that information?  How can you set up code to implement that structure?  When you have something you are ready to try, **test your code on a smaller set than the whole word list!**  The reason for this is that the word list is long, and each time you run the code on the whole list it might take several minutes to execute.  \n",
        "\n",
        "Tip:  there is a way to go back and forth between letters and numbers.  The `ord()` function takes characters to integers, and the `chr()` function takes integers back to characters.  Specifically, the (lower case) alphabetic characters are encoded with integers starting at 97.  So if you type `ord('a')` the output will be `97`.  If you type `chr(98)` the output will be `'b'`.  The way I solved the bonus problem, this tip was useful.  (See also problem 6.)\n",
        "\n",
        "\n",
        "\n",
        "\n",
        "\n"
      ],
      "metadata": {
        "id": "jhSfPMBrjEff"
      }
    }
  ]
}