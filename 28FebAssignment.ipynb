{
  "nbformat": 4,
  "nbformat_minor": 0,
  "metadata": {
    "colab": {
      "provenance": [],
      "include_colab_link": true
    },
    "kernelspec": {
      "name": "python3",
      "display_name": "Python 3"
    },
    "language_info": {
      "name": "python"
    }
  },
  "cells": [
    {
      "cell_type": "markdown",
      "metadata": {
        "id": "view-in-github",
        "colab_type": "text"
      },
      "source": [
        "<a href=\"https://colab.research.google.com/github/carter-grohe/ds1002s24cg/blob/main/28FebAssignment.ipynb\" target=\"_parent\"><img src=\"https://colab.research.google.com/assets/colab-badge.svg\" alt=\"Open In Colab\"/></a>"
      ]
    },
    {
      "cell_type": "markdown",
      "source": [
        "## Words (an assignment due Weds 28 Feb by noon)\n",
        "\n",
        "There are many word lists available on the internet, of varying size and quality.  You have one on your own computer, actually, which is used by any software that has a spell-check feature.  As you type, the software (Outlook, or Microsoft Word, or whatever) is constantly looking up words to see if they are on the word list, and if not it will alert you that it thinks the word is misspelled.\n",
        "\n",
        "(On a Mac, one such file is located at `/usr/share/dict/web2`.  I'm not sure where to find it on a PC.)\n",
        "\n",
        "For this assignment we will use a word list called `web2` that you can access via a python package called `english_words`.\n",
        "\n"
      ],
      "metadata": {
        "id": "-nyptjTP99WZ"
      }
    },
    {
      "cell_type": "markdown",
      "source": [
        "### General instructions\n",
        "\n",
        "- You may work in teams of up to three people.  If you do so, only one of your team should submit your link on Canvas, and you should include all names **both in the document and in a comment on Canvas**.\n",
        "- Some of these problems are tricky.  You should try to figure out how to solve them, rather than looking up answers.  If you need to know how to do a very specific thing, or if you are looking for the syntax for a particular function, that is an acceptable use of google.  You should under no circumstance search for existing code, or ask a chatbot to produce code, to solve the problems.\n",
        "- Some of the problems are trickier than others.  I think you can solve them all using tools we have seen in previous notebooks, although there are often more efficient ways to solve them.  (This was true for the image filtering problem we discussed last week, as you may recall.)\n",
        "- As usual, submit a clean, annotated notebook with appropriately commented code.  Make it easy to grade!"
      ],
      "metadata": {
        "id": "6ehoA20X84Hk"
      }
    },
    {
      "cell_type": "markdown",
      "source": [
        "\n",
        "### Assignment\n",
        "\n",
        "0.  Open a new colab notebook, and put this code into a code chunk at the top:\n",
        "```\n",
        "!pip install english_words\n",
        "from english_words import get_english_words_set\n",
        "words = get_english_words_set(['web2'], lower=True)\n",
        "```"
      ],
      "metadata": {
        "id": "eJU4Y9YpUmXB"
      }
    },
    {
      "cell_type": "markdown",
      "source": [
        "1.  The variable `words` is not yet a `list`.  What is its data type?  Convert it to a `list` called `wordlist`.  How long is `wordlist`?\n",
        "\n",
        "1.  Print out the first ten words in `wordlist`.  What do you notice?\n",
        "\n",
        "1.  Make a list called `alpha_list` containing all the same words, but in alphabetical order.  (Use the `sorted()` function.) Print out the first ten words in `alpha_list`.\n",
        "\n",
        "1.  How many words start with `a`?  I mean words on your list (either sorted or unsorted); whenever I say \"words\" from now on I will be referring to these lists.\n",
        "\n",
        "1.  How many words have a `q` in them?  What fraction of words do *not* have an `e`?\n",
        "\n",
        "1.  Import `numpy` and convert your lists to `numpy` arrays.  Also execute the following code:  \n",
        "```alphabet = [chr(i) for i in range(ord('a'),ord('z')+1)]```  \n",
        "What does this do?\n",
        "\n",
        "1.  Make a bar graph of the number of words starting with each letter.  You will have to import at least one more package to do this.  Label the axes and give the whole plot a title.\n",
        "\n",
        "1.  What are the six longest words in the word list?\n",
        "\n",
        "1.  Make a histogram of the number of words of each length.  Again, give the plot a title and label the axes.  What is the most common length of a word in the wordlist?\n",
        "\n",
        "1.  Finally, before you submit your notebook, go back and clean it up, remove unnecessary code, add text explanations and comments where appropriate, and so on.  Make it as easy as possible for us to read.\n"
      ],
      "metadata": {
        "id": "c4_sYArzWWfQ"
      }
    },
    {
      "cell_type": "markdown",
      "source": [
        "\n",
        "### BONUS:\n",
        "\n",
        "- (warmup) How many words contain both letters `v` and `a`?  What about both `w` and `l`?  The letters don't have to be next to each other or in the order I gave them, just anywhere in the word.  Also, how long does it take the computer to run the code you wrote to answer this question?  This should appear in a tiny font under the green checkmark next to the \"run\" button after the code finishes (without errors, of course).\n",
        "\n",
        "- (the real bonus)\n",
        "What is the pair of letters that appear in the most words?  How many words contain both those letters?  \n",
        "In other words, in the previous problem, you counted the words for two separate pairs, `v,a` and `w,l`.  I'm now asking, out of all possible pairs, which pair would give the largest answer, and what that number is.\n",
        "Answer the same questions for the *fewest* words:  what pair of letters is contained in the fewest words, and how many words are those two letters contained in?\n",
        "\n",
        "\n",
        "\n",
        "Note:  **Before you attempt this, plan your strategy!**  What exactly is the infomation you want to collect?  How should you structure that information?  How can you set up code to implement that structure?  When you have something you are ready to try, **test your code on a smaller set than the whole word list!**  The reason for this is that the word list is long, and each time you run the code on the whole list it might take several minutes to execute.  \n",
        "\n",
        "Tip:  there is a way to go back and forth between letters and numbers.  The `ord()` function takes characters to integers, and the `chr()` function takes integers back to characters.  Specifically, the (lower case) alphabetic characters are encoded with integers starting at 97.  So if you type `ord('a')` the output will be `97`.  If you type `chr(98)` the output will be `'b'`.  The way I solved the bonus problem, this tip was useful.  (See also problem 6.)\n",
        "\n",
        "\n",
        "\n",
        "\n",
        "\n"
      ],
      "metadata": {
        "id": "jhSfPMBrjEff"
      }
    }
  ]
}