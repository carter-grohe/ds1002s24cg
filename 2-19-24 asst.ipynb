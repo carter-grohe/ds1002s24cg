{
  "nbformat": 4,
  "nbformat_minor": 0,
  "metadata": {
    "colab": {
      "provenance": [],
      "authorship_tag": "ABX9TyOJnlQ1uRPxfRfLQlKVojmy",
      "include_colab_link": true
    },
    "kernelspec": {
      "name": "python3",
      "display_name": "Python 3"
    },
    "language_info": {
      "name": "python"
    }
  },
  "cells": [
    {
      "cell_type": "markdown",
      "metadata": {
        "id": "view-in-github",
        "colab_type": "text"
      },
      "source": [
        "<a href=\"https://colab.research.google.com/github/carter-grohe/ds1002s24cg/blob/main/2-19-24%20asst.ipynb\" target=\"_parent\"><img src=\"https://colab.research.google.com/assets/colab-badge.svg\" alt=\"Open In Colab\"/></a>"
      ]
    },
    {
      "cell_type": "code",
      "execution_count": 3,
      "metadata": {
        "id": "I0n1dEm09OlJ"
      },
      "outputs": [],
      "source": [
        "import numpy as np\n",
        "import matplotlib.pyplot as plt"
      ]
    },
    {
      "cell_type": "code",
      "source": [
        "#NOTE: this does not work. could not figure out how to display multiple photos side-by-side. Will revisit\n",
        "\n",
        "!pip install scikit-image matplotlib\n",
        "from skimage import io\n",
        "print(\"please input .jpg url (Include .jpg!)\")\n",
        "photo = io.imread(input())\n",
        "\n",
        "def red_filter(photo):\n",
        "    red_only = photo.copy()\n",
        "    red_only[:, :, 1] = 0\n",
        "    red_only[:, :, 2] = 0\n",
        "    return red_only\n",
        "red_photo = red_filter(photo)\n",
        "\n",
        "def green_filter(photo):\n",
        "    green_only = photo.copy()\n",
        "    green_only[:, :, 0] = 0\n",
        "    green_only[:, :, 2] = 0\n",
        "    return green_only\n",
        "green_photo = green_filter(photo)\n",
        "\n",
        "def blue_filter(photo):\n",
        "    blue_only = photo.copy()\n",
        "    blue_only[:, :, 0] = 0\n",
        "    blue_only[:, :, 1] = 0\n",
        "    return blue_only\n",
        "blue_photo = blue_filter(photo)\n",
        "\n",
        "def rg_filter(photo):\n",
        "    rg = photo.copy()\n",
        "    rg[:, :, 2] = 0\n",
        "    return rg\n",
        "rg_photo = rg_filter(photo)\n",
        "\n",
        "def gb_filter(photo):\n",
        "    gb = photo.copy()\n",
        "    gb[:, :, 0] = 0\n",
        "    return gb\n",
        "gb_photo = gb_filter(photo)\n",
        "\n",
        "def rb_filter(photo):\n",
        "    rb = photo.copy()\n",
        "    rb[:, :, 1] = 0\n",
        "    return rb\n",
        "rb_photo = rb_filter(photo)\n",
        "\n",
        "#suggested by colab AI\n",
        "all_photos = np.hstack([photo, red_photo, green_photo, blue_photo, rg_photo, gb_photo, rb_photo])\n",
        "all_photos = all_photos.reshape((photo.shape[0], photo.shape[1] * 4, 3))\n",
        "plt.imshow(all_photos)"
      ],
      "metadata": {
        "colab": {
          "base_uri": "https://localhost:8080/",
          "height": 523
        },
        "id": "_vCduTm59rnF",
        "outputId": "de1c8b63-3f6d-453d-f850-87701ae6ff0b"
      },
      "execution_count": 33,
      "outputs": [
        {
          "name": "stdout",
          "output_type": "stream",
          "text": [
            "Requirement already satisfied: scikit-image in /usr/local/lib/python3.10/dist-packages (0.19.3)\n",
            "Requirement already satisfied: matplotlib in /usr/local/lib/python3.10/dist-packages (3.7.1)\n",
            "Requirement already satisfied: numpy>=1.17.0 in /usr/local/lib/python3.10/dist-packages (from scikit-image) (1.25.2)\n",
            "Requirement already satisfied: scipy>=1.4.1 in /usr/local/lib/python3.10/dist-packages (from scikit-image) (1.11.4)\n",
            "Requirement already satisfied: networkx>=2.2 in /usr/local/lib/python3.10/dist-packages (from scikit-image) (3.2.1)\n",
            "Requirement already satisfied: pillow!=7.1.0,!=7.1.1,!=8.3.0,>=6.1.0 in /usr/local/lib/python3.10/dist-packages (from scikit-image) (9.4.0)\n",
            "Requirement already satisfied: imageio>=2.4.1 in /usr/local/lib/python3.10/dist-packages (from scikit-image) (2.31.6)\n",
            "Requirement already satisfied: tifffile>=2019.7.26 in /usr/local/lib/python3.10/dist-packages (from scikit-image) (2024.2.12)\n",
            "Requirement already satisfied: PyWavelets>=1.1.1 in /usr/local/lib/python3.10/dist-packages (from scikit-image) (1.5.0)\n",
            "Requirement already satisfied: packaging>=20.0 in /usr/local/lib/python3.10/dist-packages (from scikit-image) (23.2)\n",
            "Requirement already satisfied: contourpy>=1.0.1 in /usr/local/lib/python3.10/dist-packages (from matplotlib) (1.2.0)\n",
            "Requirement already satisfied: cycler>=0.10 in /usr/local/lib/python3.10/dist-packages (from matplotlib) (0.12.1)\n",
            "Requirement already satisfied: fonttools>=4.22.0 in /usr/local/lib/python3.10/dist-packages (from matplotlib) (4.48.1)\n",
            "Requirement already satisfied: kiwisolver>=1.0.1 in /usr/local/lib/python3.10/dist-packages (from matplotlib) (1.4.5)\n",
            "Requirement already satisfied: pyparsing>=2.3.1 in /usr/local/lib/python3.10/dist-packages (from matplotlib) (3.1.1)\n",
            "Requirement already satisfied: python-dateutil>=2.7 in /usr/local/lib/python3.10/dist-packages (from matplotlib) (2.8.2)\n",
            "Requirement already satisfied: six>=1.5 in /usr/local/lib/python3.10/dist-packages (from python-dateutil>=2.7->matplotlib) (1.16.0)\n",
            "please input .jpg url (Include .jpg!)\n",
            "20240217_125024.jpg\n"
          ]
        },
        {
          "output_type": "error",
          "ename": "ValueError",
          "evalue": "cannot reshape array of size 1010658432 into shape (5204,36992,3)",
          "traceback": [
            "\u001b[0;31m---------------------------------------------------------------------------\u001b[0m",
            "\u001b[0;31mValueError\u001b[0m                                Traceback (most recent call last)",
            "\u001b[0;32m<ipython-input-33-bfeaf2412485>\u001b[0m in \u001b[0;36m<cell line: 46>\u001b[0;34m()\u001b[0m\n\u001b[1;32m     44\u001b[0m \u001b[0;34m\u001b[0m\u001b[0m\n\u001b[1;32m     45\u001b[0m \u001b[0mall_photos\u001b[0m \u001b[0;34m=\u001b[0m \u001b[0mnp\u001b[0m\u001b[0;34m.\u001b[0m\u001b[0mhstack\u001b[0m\u001b[0;34m(\u001b[0m\u001b[0;34m[\u001b[0m\u001b[0mphoto\u001b[0m\u001b[0;34m,\u001b[0m \u001b[0mred_photo\u001b[0m\u001b[0;34m,\u001b[0m \u001b[0mgreen_photo\u001b[0m\u001b[0;34m,\u001b[0m \u001b[0mblue_photo\u001b[0m\u001b[0;34m,\u001b[0m \u001b[0mrg_photo\u001b[0m\u001b[0;34m,\u001b[0m \u001b[0mgb_photo\u001b[0m\u001b[0;34m,\u001b[0m \u001b[0mrb_photo\u001b[0m\u001b[0;34m]\u001b[0m\u001b[0;34m)\u001b[0m\u001b[0;34m\u001b[0m\u001b[0;34m\u001b[0m\u001b[0m\n\u001b[0;32m---> 46\u001b[0;31m \u001b[0mall_photos\u001b[0m \u001b[0;34m=\u001b[0m \u001b[0mall_photos\u001b[0m\u001b[0;34m.\u001b[0m\u001b[0mreshape\u001b[0m\u001b[0;34m(\u001b[0m\u001b[0;34m(\u001b[0m\u001b[0mphoto\u001b[0m\u001b[0;34m.\u001b[0m\u001b[0mshape\u001b[0m\u001b[0;34m[\u001b[0m\u001b[0;36m0\u001b[0m\u001b[0;34m]\u001b[0m\u001b[0;34m,\u001b[0m \u001b[0mphoto\u001b[0m\u001b[0;34m.\u001b[0m\u001b[0mshape\u001b[0m\u001b[0;34m[\u001b[0m\u001b[0;36m1\u001b[0m\u001b[0;34m]\u001b[0m \u001b[0;34m*\u001b[0m \u001b[0;36m4\u001b[0m\u001b[0;34m,\u001b[0m \u001b[0;36m3\u001b[0m\u001b[0;34m)\u001b[0m\u001b[0;34m)\u001b[0m\u001b[0;34m\u001b[0m\u001b[0;34m\u001b[0m\u001b[0m\n\u001b[0m\u001b[1;32m     47\u001b[0m \u001b[0mplt\u001b[0m\u001b[0;34m.\u001b[0m\u001b[0mimshow\u001b[0m\u001b[0;34m(\u001b[0m\u001b[0mall_photos\u001b[0m\u001b[0;34m)\u001b[0m\u001b[0;34m\u001b[0m\u001b[0;34m\u001b[0m\u001b[0m\n",
            "\u001b[0;31mValueError\u001b[0m: cannot reshape array of size 1010658432 into shape (5204,36992,3)"
          ]
        }
      ]
    },
    {
      "cell_type": "code",
      "source": [],
      "metadata": {
        "id": "Wh9Be3FqPzMX"
      },
      "execution_count": null,
      "outputs": []
    }
  ]
}