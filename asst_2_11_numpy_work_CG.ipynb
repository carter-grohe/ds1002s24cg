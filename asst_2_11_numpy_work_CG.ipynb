{
  "nbformat": 4,
  "nbformat_minor": 0,
  "metadata": {
    "colab": {
      "provenance": [],
      "authorship_tag": "ABX9TyNVWFUAFXGb52pqw7xoGwEN",
      "include_colab_link": true
    },
    "kernelspec": {
      "name": "python3",
      "display_name": "Python 3"
    },
    "language_info": {
      "name": "python"
    }
  },
  "cells": [
    {
      "cell_type": "markdown",
      "metadata": {
        "id": "view-in-github",
        "colab_type": "text"
      },
      "source": [
        "<a href=\"https://colab.research.google.com/github/carter-grohe/ds1002s24cg/blob/main/asst_2_11_numpy_work_CG.ipynb\" target=\"_parent\"><img src=\"https://colab.research.google.com/assets/colab-badge.svg\" alt=\"Open In Colab\"/></a>"
      ]
    },
    {
      "cell_type": "markdown",
      "source": [
        "Carter Grohe // 2/11 Assignment // DS1002"
      ],
      "metadata": {
        "id": "BCfJ2vAWR377"
      }
    },
    {
      "cell_type": "markdown",
      "source": [
        "It took about 50 minutes for this assignment, working by myself (also catching up on last class as I was sick)"
      ],
      "metadata": {
        "id": "jGBbBH-VVdtW"
      }
    },
    {
      "cell_type": "code",
      "execution_count": 27,
      "metadata": {
        "colab": {
          "base_uri": "https://localhost:8080/"
        },
        "id": "0hgCStgyQy3r",
        "outputId": "042f9a96-4ea4-48f7-db02-cd47b1e01628"
      },
      "outputs": [
        {
          "output_type": "stream",
          "name": "stdout",
          "text": [
            "Guess the number (between 0 and 100): 45\n",
            "nope too high whoops\n",
            "Guess the number (between 0 and 100): 22\n",
            "nope too low whoops\n",
            "Guess the number (between 0 and 100): 44\n",
            "nope too high whoops\n",
            "Guess the number (between 0 and 100): 33\n",
            "nope too high whoops\n",
            "Guess the number (between 0 and 100): 27\n",
            "nope too low whoops\n",
            "Guess the number (between 0 and 100): 29\n",
            "nope too high whoops\n",
            "Guess the number (between 0 and 100): 28\n",
            "wow congrats\n",
            "7\n"
          ]
        }
      ],
      "source": [
        "import numpy as np\n",
        "\n",
        "def game():\n",
        "    numba = np.random.randint(0, 101)\n",
        "    a = True\n",
        "    count = 0\n",
        "\n",
        "    while a == True:\n",
        "        guess = input(\"Guess the number (between 0 and 100): \")\n",
        "\n",
        "        try:\n",
        "            guess = int(guess)\n",
        "            count = count + 1\n",
        "            if guess == numba:\n",
        "                print(\"wow congrats\")\n",
        "                print(count)\n",
        "                a = False\n",
        "            if guess > numba:\n",
        "                print(\"nope too high whoops\")\n",
        "            if guess < numba:\n",
        "                print(\"nope too low whoops\")\n",
        "        except:\n",
        "            print(\"dude cmon now\")\n",
        "\n",
        "game()\n",
        "\n"
      ]
    }
  ]
}