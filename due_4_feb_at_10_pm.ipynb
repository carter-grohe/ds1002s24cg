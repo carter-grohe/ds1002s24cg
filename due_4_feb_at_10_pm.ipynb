{
  "nbformat": 4,
  "nbformat_minor": 0,
  "metadata": {
    "colab": {
      "provenance": [],
      "include_colab_link": true
    },
    "kernelspec": {
      "name": "python3",
      "display_name": "Python 3"
    },
    "language_info": {
      "name": "python"
    }
  },
  "cells": [
    {
      "cell_type": "markdown",
      "metadata": {
        "id": "view-in-github",
        "colab_type": "text"
      },
      "source": [
        "<a href=\"https://colab.research.google.com/github/carter-grohe/ds1002s24cg/blob/main/due_4_feb_at_10_pm.ipynb\" target=\"_parent\"><img src=\"https://colab.research.google.com/assets/colab-badge.svg\" alt=\"Open In Colab\"/></a>"
      ]
    },
    {
      "cell_type": "markdown",
      "source": [
        "## DS 1002 homework due Sunday Feb 4 at 10 pm\n"
      ],
      "metadata": {
        "id": "zAw2bmn-TjFJ"
      }
    },
    {
      "cell_type": "markdown",
      "source": [
        "\n",
        "The notebook from Wednesday's class is in my GitHib repository, including the little script we wrote at the end to find mangos in a list of fruit.  The file is called `MorePythonBasics.ipynb`.\n",
        "\n",
        "(By the way I wondered if the correct spelling was \"mangos\" or \"mangoes\" and I found [this](https://www.mango.org/blog-mangos-or-mangoes/)!  Who knew?  There's a National Mango Board!  And they're prepared to adjudicate this and other difficult mango-related questions.)\n",
        "\n",
        "\n"
      ],
      "metadata": {
        "id": "Cmf4xleCSWCu"
      }
    },
    {
      "cell_type": "markdown",
      "source": [
        "### Problem 1:  finding fruit\n",
        "\n",
        "Adapt the function we wrote in class so that it takes two arguments,\n",
        "\n",
        "`fruit` and `hungryfor` ,\n",
        "\n",
        "and then searches through the list `fruit` for the item `hungryfor`.  The line that calls the function should look like\n",
        "\n",
        "`find_fruit(food, hungryfor)`\n",
        "\n",
        "Make it print out the results in the same way, so for example if `food` is what we entered in class and `hungryfor = \"tomatoes\"` then the output will be\n",
        "\n",
        "```python\n",
        "No tomatoes here.\n",
        "No tomatoes here.\n",
        "No tomatoes here.\n",
        "No tomatoes here.\n",
        "No tomatoes here.\n",
        "```\n",
        "Test your code by changing the values of `food` and `hungryfor` and make sure the output is what you expect.  Show a few outputs, each in its own code chunk.\n",
        "\n"
      ],
      "metadata": {
        "id": "rJLyGryAThhp"
      }
    },
    {
      "cell_type": "code",
      "source": [
        "food = [\"apples\", \"oranges\", \"mangos\", \"bananas\", \"blueberries\"]\n",
        "\n",
        "def find_fruit(fruit, hungryfor):\n",
        "  for findr in fruit:\n",
        "    if findr == hungryfor :\n",
        "      print(\"yum\")\n",
        "    else:\n",
        "      print(\"sorry you will starve\")\n",
        "\n",
        "find_fruit(food, \"bananas\")"
      ],
      "metadata": {
        "id": "YXwLLFCt6H2f",
        "colab": {
          "base_uri": "https://localhost:8080/"
        },
        "outputId": "30cffe52-3915-405e-8447-61966f255e2c"
      },
      "execution_count": null,
      "outputs": [
        {
          "output_type": "stream",
          "name": "stdout",
          "text": [
            "sorry you will starve\n",
            "sorry you will starve\n",
            "sorry you will starve\n",
            "yum\n",
            "sorry you will starve\n"
          ]
        }
      ]
    },
    {
      "cell_type": "code",
      "source": [
        "find_fruit(food, \"tomatoes\")\n",
        "\n",
        "find_fruit(food, \"oranges\")"
      ],
      "metadata": {
        "id": "bYdqsfrh6KnE",
        "colab": {
          "base_uri": "https://localhost:8080/"
        },
        "outputId": "b0bfc043-ac1a-4a95-c968-55c80dd49339"
      },
      "execution_count": null,
      "outputs": [
        {
          "output_type": "stream",
          "name": "stdout",
          "text": [
            "sorry you will starve\n",
            "sorry you will starve\n",
            "sorry you will starve\n",
            "sorry you will starve\n",
            "sorry you will starve\n",
            "sorry you will starve\n",
            "yum\n",
            "sorry you will starve\n",
            "sorry you will starve\n",
            "sorry you will starve\n"
          ]
        }
      ]
    },
    {
      "cell_type": "markdown",
      "source": [
        "#### Notes\n",
        "1. Once you have run a code chunk in the notebook, it will remember that it has been run.  You don't have to call the function in the same code chunk where the function is defined.  In other words, to call the function with new inputs you can simply make a new code chunk, change the inputs, and call the function.  *You don't have to retype the definition of the function each time.*\n",
        "\n",
        "2. Make sure you clean things up when you're done, so you don't include old code that doesn't work or old incorrect outputs.\n"
      ],
      "metadata": {
        "id": "AMp-a1ym6W7w"
      }
    },
    {
      "cell_type": "markdown",
      "source": [
        "### Problem 2:  the `input()` function\n",
        "\n",
        "(a) Programming gets way more fun when you start to interact with your own programs!  Here is a function that lets you start doing that.  Run the following code and see what happens:\n"
      ],
      "metadata": {
        "id": "R-s9cZ6GYWNX"
      }
    },
    {
      "cell_type": "code",
      "source": [
        "input()\n",
        "print(\"Hello there!\")"
      ],
      "metadata": {
        "id": "IEK8O2qNYkXn",
        "colab": {
          "base_uri": "https://localhost:8080/"
        },
        "outputId": "a025c501-b833-4b35-8f3d-9979a5b29810"
      },
      "execution_count": null,
      "outputs": [
        {
          "output_type": "stream",
          "name": "stdout",
          "text": [
            "WOAH\n",
            "Hello there!\n"
          ]
        }
      ]
    },
    {
      "cell_type": "markdown",
      "source": [
        "(b) As you just saw, the code waits for you to enter something before it continues.  If you want to actually use the input in the code, you should assign its value to a variable:"
      ],
      "metadata": {
        "id": "sktZu8wWzFF6"
      }
    },
    {
      "cell_type": "code",
      "source": [
        "message = input()\n",
        "print(message)"
      ],
      "metadata": {
        "id": "fMmBkzbyz9Ty",
        "colab": {
          "base_uri": "https://localhost:8080/"
        },
        "outputId": "614a92d1-4235-49c3-fd02-43139fdd45ed"
      },
      "execution_count": null,
      "outputs": [
        {
          "output_type": "stream",
          "name": "stdout",
          "text": [
            "WOAH\n",
            "WOAH\n"
          ]
        }
      ]
    },
    {
      "cell_type": "markdown",
      "source": [
        "(c) Now you can start interacting.  Write some code that asks the user what they are hungry for (using a print statement), and then takes the user input, and then runs the `find_fruit` function from the previous code block using the user input as the `hungryfor` variable.  Test your code, and then include a few different outputs that demonstrate that the code works."
      ],
      "metadata": {
        "id": "ny41z-dQYmjQ"
      }
    },
    {
      "cell_type": "code",
      "source": [
        "print(\"hello can i take your order\")\n",
        "hungryfor = input()\n",
        "find_fruit(food, hungryfor)"
      ],
      "metadata": {
        "id": "SKAVoAZ00xOx",
        "colab": {
          "base_uri": "https://localhost:8080/"
        },
        "outputId": "0e3f49f2-78c9-41dd-a4ee-2f0023c5b052"
      },
      "execution_count": null,
      "outputs": [
        {
          "output_type": "stream",
          "name": "stdout",
          "text": [
            "hello can i take your order\n",
            "apples\n",
            "yum\n",
            "sorry you will starve\n",
            "sorry you will starve\n",
            "sorry you will starve\n",
            "sorry you will starve\n"
          ]
        }
      ]
    },
    {
      "cell_type": "markdown",
      "source": [
        "### Problem 3:  ratings  \n",
        "Write a piece of code which prompts a user with the question \"What is your rating? (1-10)\" and then asks for user input.  Let's say the input is 3.  Once the input is received, print out a message that says.\n",
        "\n",
        "\"Your rating is *** .\"\n",
        "\n",
        "Obviously, your program should print the number of stars corresponding to the input!  If the input is 5, it should print\n",
        "\n",
        "\"Your rating is ***** .\"\n",
        "\n",
        "Show at least two outputs of your code."
      ],
      "metadata": {
        "id": "5CWOlHBz0xoZ"
      }
    },
    {
      "cell_type": "code",
      "source": [
        "print(\"please rate us from 1-10\")\n",
        "countint = int(input(\"Rating = \"))\n",
        "rating = \"*\" * countint\n",
        "print(rating)\n"
      ],
      "metadata": {
        "id": "MCWnTAUW2Gin",
        "colab": {
          "base_uri": "https://localhost:8080/"
        },
        "outputId": "db4cb366-e6d7-4709-a952-f81a1913c6e0"
      },
      "execution_count": null,
      "outputs": [
        {
          "output_type": "stream",
          "name": "stdout",
          "text": [
            "please rate us from 1-10\n",
            "Rating = 4\n",
            "****\n"
          ]
        }
      ]
    },
    {
      "cell_type": "code",
      "source": [
        "print(\"please rate us from 1-10\")\n",
        "countint = int(input(\"Rating = \"))\n",
        "rating = \"*\" * countint\n",
        "print(rating)"
      ],
      "metadata": {
        "id": "nxm67oCk8Ukn",
        "colab": {
          "base_uri": "https://localhost:8080/"
        },
        "outputId": "d00f7b74-1622-4963-b6f7-e19c731edb59"
      },
      "execution_count": null,
      "outputs": [
        {
          "output_type": "stream",
          "name": "stdout",
          "text": [
            "please rate us from 1-10\n",
            "Rating = 8\n",
            "********\n"
          ]
        }
      ]
    },
    {
      "cell_type": "markdown",
      "source": [
        "You do not have to do this as part of the assignment, but one thing to think about with any code that has **interactivity** is that you want to make it **robust**.  This means you should imagine someone is *trying* to break your code, and you should try to make it as indestructible as possible.\n",
        "\n",
        "What will happen to your code if someone enters 3.5?  Or -12?  Or \"nonsense\"?  Test it and see.  Think about how you might guard against errors.\n"
      ],
      "metadata": {
        "id": "VRfc9puT2yac"
      }
    }
  ]
}