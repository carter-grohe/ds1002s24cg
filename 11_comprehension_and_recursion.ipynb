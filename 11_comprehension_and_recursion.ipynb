{
  "nbformat": 4,
  "nbformat_minor": 0,
  "metadata": {
    "colab": {
      "provenance": [],
      "include_colab_link": true
    },
    "kernelspec": {
      "name": "python3",
      "display_name": "Python 3"
    },
    "language_info": {
      "name": "python"
    }
  },
  "cells": [
    {
      "cell_type": "markdown",
      "metadata": {
        "id": "view-in-github",
        "colab_type": "text"
      },
      "source": [
        "<a href=\"https://colab.research.google.com/github/carter-grohe/ds1002s24cg/blob/main/11_comprehension_and_recursion.ipynb\" target=\"_parent\"><img src=\"https://colab.research.google.com/assets/colab-badge.svg\" alt=\"Open In Colab\"/></a>"
      ]
    },
    {
      "cell_type": "markdown",
      "source": [
        "## Assignment 11\n",
        "Due Monday 15 April at noon"
      ],
      "metadata": {
        "id": "y6mGkyWrqph3"
      }
    },
    {
      "cell_type": "markdown",
      "source": [
        "### List comprehension\n",
        "\n",
        "Many of you resisted my recommendation to use list comprehensions in the previous assignment, and so my hand is forced.  You made me require it.\n",
        "\n",
        "\n",
        "Problem 1.  For each function you write below, you may assume the list being sent to the function will contain the appropriate data type.\n",
        "\n",
        "Use list comprehensions to create a function that will take a list `l` and return . . ."
      ],
      "metadata": {
        "id": "eBJulsWBngse"
      }
    },
    {
      "cell_type": "markdown",
      "source": [
        "(a) . . . a list containing the absolute value of each element of `l`"
      ],
      "metadata": {
        "id": "1h4hKDEqo5T_"
      }
    },
    {
      "cell_type": "code",
      "source": [
        "l = [13, 2, 1, 5, 6, 7, 2, 1, 7, 4, 3, -5, -2, -6, 41, 75, -1, 24]\n",
        "\n",
        "l1 = [abs(value) for value in l]\n",
        "l1"
      ],
      "metadata": {
        "id": "LNltsHhtngLS",
        "colab": {
          "base_uri": "https://localhost:8080/"
        },
        "outputId": "e2c54bf0-d720-4c99-d4df-f62a52963240"
      },
      "execution_count": null,
      "outputs": [
        {
          "output_type": "execute_result",
          "data": {
            "text/plain": [
              "[13, 2, 1, 5, 6, 7, 2, 1, 7, 4, 3, 5, 2, 6, 41, 75, 1, 24]"
            ]
          },
          "metadata": {},
          "execution_count": 11
        }
      ]
    },
    {
      "cell_type": "markdown",
      "source": [
        "(b) . . . a list containing `True` for each even number in `l` and `False` for each odd number in `l`"
      ],
      "metadata": {
        "id": "mqIbzaTvpLCV"
      }
    },
    {
      "cell_type": "code",
      "source": [
        "l2 = [value % 2 == 0 for value in l]\n",
        "l2"
      ],
      "metadata": {
        "id": "0OTpQFX9pK0t",
        "colab": {
          "base_uri": "https://localhost:8080/"
        },
        "outputId": "19617161-723c-43a8-dd2d-2e7e3a7171a8"
      },
      "execution_count": null,
      "outputs": [
        {
          "output_type": "execute_result",
          "data": {
            "text/plain": [
              "[False,\n",
              " True,\n",
              " False,\n",
              " False,\n",
              " True,\n",
              " False,\n",
              " True,\n",
              " False,\n",
              " False,\n",
              " True,\n",
              " False,\n",
              " False,\n",
              " True,\n",
              " True,\n",
              " False,\n",
              " False,\n",
              " False,\n",
              " True]"
            ]
          },
          "metadata": {},
          "execution_count": 14
        }
      ]
    },
    {
      "cell_type": "markdown",
      "source": [
        "(c) . . . a list containing only the numbers in `l` that are divisible by 3"
      ],
      "metadata": {
        "id": "9yqVg2hApUY9"
      }
    },
    {
      "cell_type": "code",
      "source": [
        "l3 = [value for value in l if value % 3 == 0]\n",
        "l3"
      ],
      "metadata": {
        "id": "2mP_1aYZpUF4",
        "colab": {
          "base_uri": "https://localhost:8080/"
        },
        "outputId": "71154542-be4e-4f86-f13c-ee9f08973a90"
      },
      "execution_count": null,
      "outputs": [
        {
          "output_type": "execute_result",
          "data": {
            "text/plain": [
              "[6, 3, -6, 75, 24]"
            ]
          },
          "metadata": {},
          "execution_count": 16
        }
      ]
    },
    {
      "cell_type": "markdown",
      "source": [
        "(d) . . . a list containing only the words in `l` whose first and last letters are the same"
      ],
      "metadata": {
        "id": "2yClgYZupef1"
      }
    },
    {
      "cell_type": "code",
      "source": [
        "lv2 = [\"tarantula\", \"epoch\", \"hustle\", \"momentum\", \"disturbed\", \"caveat\", \"unbelievable\"]\n",
        "l4 = [value for value in lv2 if value[0] == value[-1]]\n",
        "l4"
      ],
      "metadata": {
        "id": "-l7XnemMpeCi",
        "colab": {
          "base_uri": "https://localhost:8080/"
        },
        "outputId": "1f30150f-689c-4503-a9d7-1cf67ba5f80c"
      },
      "execution_count": null,
      "outputs": [
        {
          "output_type": "execute_result",
          "data": {
            "text/plain": [
              "['momentum', 'disturbed']"
            ]
          },
          "metadata": {},
          "execution_count": 18
        }
      ]
    },
    {
      "cell_type": "markdown",
      "source": [
        "(e) . . . a list containing the first letter of each word in `l` that ends with a vowel"
      ],
      "metadata": {
        "id": "1mqMysFKppZS"
      }
    },
    {
      "cell_type": "code",
      "source": [
        "# l5 = [value[0] for value in lv2 if value[-1] == 'a'|'e'|'i'|'o'|'u'] FIRST EDITION\n",
        "\n",
        "vowellist = 'aeiou'\n",
        "l5 = [value[0] for value in lv2 if value[-1] in vowellist] #with google\n",
        "l5"
      ],
      "metadata": {
        "id": "1Gi3andbppDc",
        "colab": {
          "base_uri": "https://localhost:8080/"
        },
        "outputId": "80d9e690-5720-4d4c-8873-ed1888b2de3f"
      },
      "execution_count": null,
      "outputs": [
        {
          "output_type": "execute_result",
          "data": {
            "text/plain": [
              "['t', 'h', 'u']"
            ]
          },
          "metadata": {},
          "execution_count": 21
        }
      ]
    },
    {
      "cell_type": "markdown",
      "source": [
        "### Multiplication as a recursive process\n",
        "Problem 2.  Write a recursive function that computes the product of two positive integers `a` and `b` by adding `a` to itself `b` times.\n",
        "\n",
        "Hints:  \n",
        "1. if `b=1` then the product is `a`.\n",
        "2. if `b>1` then the product is what you get by adding `a` to `a * (b-1)`.\n",
        "\n",
        "Note:  the purpose of this exercise is to practice writing recursive functions.  Of course you can trivially ask for `a*b` and get the correct answer but that is worth no points.  Your function should not use any multiplications.\n"
      ],
      "metadata": {
        "id": "iV4ysawxjsiE"
      }
    },
    {
      "cell_type": "code",
      "execution_count": null,
      "metadata": {
        "id": "wc9Y1d7ejrvH",
        "colab": {
          "base_uri": "https://localhost:8080/"
        },
        "outputId": "337776b7-51f5-4f3c-90cd-9855e0f6eb64"
      },
      "outputs": [
        {
          "output_type": "execute_result",
          "data": {
            "text/plain": [
              "0"
            ]
          },
          "metadata": {},
          "execution_count": 26
        }
      ],
      "source": [
        "def rec(a,b):\n",
        "  if b == 0:\n",
        "    return 0\n",
        "  else:\n",
        "    return a + rec(a, b - 1)\n",
        "\n",
        "rec(4, 9)\n",
        "rec(4,0)"
      ]
    },
    {
      "cell_type": "markdown",
      "source": [
        "### Division as a recursive process\n",
        "\n",
        "Problem 3:  Write a recursive function that takes two positive integers `a` and `b` and returns the quotient `q` and remainder `r` obtained when `a` is divided by `b`.\n",
        "\n",
        "Hints:  \n",
        "1. If `a<b` then what should `q` and `r` be?\n",
        "\n",
        "2. If `a>b` then think about how `q` and `r` are related to the values you would get from dividing `a-b` by `b`."
      ],
      "metadata": {
        "id": "A5xI1LxDkxn0"
      }
    },
    {
      "cell_type": "code",
      "source": [
        "def rec3(a,b):\n",
        "  if b > a:\n",
        "    return 0, a\n",
        "  else:\n",
        "    quotient, remainder = rec3(a - b, b)\n",
        "    return quotient + 1, remainder\n",
        "\n",
        "rec3(18, 4)\n",
        "rec3(150, 6)"
      ],
      "metadata": {
        "id": "_3aRmkgJkxUW",
        "colab": {
          "base_uri": "https://localhost:8080/"
        },
        "outputId": "4212dcd1-934b-4f6a-d9b4-6e71afc18a7d"
      },
      "execution_count": null,
      "outputs": [
        {
          "output_type": "execute_result",
          "data": {
            "text/plain": [
              "(25, 0)"
            ]
          },
          "metadata": {},
          "execution_count": 31
        }
      ]
    },
    {
      "cell_type": "markdown",
      "source": [
        "### The dot product of two vectors\n",
        "\n",
        "Problem 4.  Write a recursive function `dot()` that takes two lists of numbers, of equal length, and returns the sum of the products of the elements of the same index from each list. For example, if `V=[1,2,3]` and `W=[4,5,6]` then the function should return the value $(1 \\cdot 4) + (2\\cdot 5) + (3\\cdot 6)$, which equals 32.  In physics and linear algebra, this is called the \"dot product\" of the vectors `V` and `W`.\n",
        "\n",
        "Other examples:\n",
        "```\n",
        "dot([3],[4])\n",
        "12\n",
        "\n",
        "dot([1,1,0],[2,7,17])\n",
        "9\n",
        "```\n",
        "Hints:\n",
        "1. How is `dot(V,W)` related to `dot(V[1:],W[1:])`?\n",
        "2. What should happen if the lists are empty?"
      ],
      "metadata": {
        "id": "OkBK7gvglJ3u"
      }
    },
    {
      "cell_type": "code",
      "source": [
        "v = [1, 3, 5]\n",
        "w = [3, 6, 9]\n",
        "a = [1, 1, 0]\n",
        "b= [2, 7, 17]\n",
        "\n",
        "def q4(v, w):\n",
        "  if not v:\n",
        "    return 0\n",
        "  else:\n",
        "     return v[0] * w[0] + q4(v[1:], w[1:])\n",
        "\n",
        "q4(v, w)\n",
        "q4(a,b)"
      ],
      "metadata": {
        "id": "LZXs6lkslJqm",
        "colab": {
          "base_uri": "https://localhost:8080/"
        },
        "outputId": "6f016beb-393b-4c50-de07-012552bcbdfc"
      },
      "execution_count": null,
      "outputs": [
        {
          "output_type": "execute_result",
          "data": {
            "text/plain": [
              "9"
            ]
          },
          "metadata": {},
          "execution_count": 35
        }
      ]
    }
  ]
}